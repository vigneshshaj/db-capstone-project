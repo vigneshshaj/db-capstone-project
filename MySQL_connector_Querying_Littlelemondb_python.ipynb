{
 "cells": [
  {
   "cell_type": "code",
   "execution_count": 7,
   "id": "5b2eeb7f-2f05-4bd7-97aa-4306160ea159",
   "metadata": {},
   "outputs": [
    {
     "name": "stdout",
     "output_type": "stream",
     "text": [
      "Collecting mysql-connector-python\n",
      "  Obtaining dependency information for mysql-connector-python from https://files.pythonhosted.org/packages/53/81/a8b2f37788bccacb64009e8778120bca6962d1fc154613f46c945eaab91f/mysql_connector_python-8.2.0-cp312-cp312-macosx_12_0_x86_64.whl.metadata\n",
      "  Downloading mysql_connector_python-8.2.0-cp312-cp312-macosx_12_0_x86_64.whl.metadata (2.1 kB)\n",
      "Collecting protobuf<=4.21.12,>=4.21.1 (from mysql-connector-python)\n",
      "  Downloading protobuf-4.21.12-cp37-abi3-macosx_10_9_universal2.whl (486 kB)\n",
      "\u001b[2K     \u001b[90m━━━━━━━━━━━━━━━━━━━━━━━━━━━━━━━━━━━━━\u001b[0m \u001b[32m486.2/486.2 kB\u001b[0m \u001b[31m127.3 kB/s\u001b[0m eta \u001b[36m0:00:00\u001b[0ma \u001b[36m0:00:01\u001b[0m\n",
      "\u001b[?25hDownloading mysql_connector_python-8.2.0-cp312-cp312-macosx_12_0_x86_64.whl (15.3 MB)\n",
      "\u001b[2K   \u001b[90m━━━━━━━━━━━━━━━━━━━━━━━━━━━━━━━━━━━━━━━━\u001b[0m \u001b[32m15.3/15.3 MB\u001b[0m \u001b[31m4.3 MB/s\u001b[0m eta \u001b[36m0:00:00\u001b[0m00:01\u001b[0m00:01\u001b[0mm\n",
      "\u001b[?25hInstalling collected packages: protobuf, mysql-connector-python\n",
      "Successfully installed mysql-connector-python-8.2.0 protobuf-4.21.12\n",
      "\n",
      "\u001b[1m[\u001b[0m\u001b[34;49mnotice\u001b[0m\u001b[1;39;49m]\u001b[0m\u001b[39;49m A new release of pip is available: \u001b[0m\u001b[31;49m23.2.1\u001b[0m\u001b[39;49m -> \u001b[0m\u001b[32;49m23.3.2\u001b[0m\n",
      "\u001b[1m[\u001b[0m\u001b[34;49mnotice\u001b[0m\u001b[1;39;49m]\u001b[0m\u001b[39;49m To update, run: \u001b[0m\u001b[32;49mpip3 install --upgrade pip\u001b[0m\n",
      "Note: you may need to restart the kernel to use updated packages.\n"
     ]
    }
   ],
   "source": [
    "pip install mysql-connector-python"
   ]
  },
  {
   "cell_type": "code",
   "execution_count": 10,
   "id": "9d71e53d-b380-4a64-bb8f-9794a60ac91c",
   "metadata": {},
   "outputs": [],
   "source": [
    "import mysql.connector as connector"
   ]
  },
  {
   "cell_type": "code",
   "execution_count": 11,
   "id": "9689b4bb-6091-4ada-be86-ac48f968ff2e",
   "metadata": {},
   "outputs": [],
   "source": [
    "connection = connector.connect(user = \"newuser\", password = \"Geetham@9876\", db = \"mydb\") "
   ]
  },
  {
   "cell_type": "code",
   "execution_count": 13,
   "id": "4400013e-fa4b-42fd-8d9d-ed39bd4d9c80",
   "metadata": {},
   "outputs": [],
   "source": [
    "cursor = connection.cursor()"
   ]
  },
  {
   "cell_type": "code",
   "execution_count": 14,
   "id": "04c5a5b8-14ce-4dff-a8a2-efd032b55f88",
   "metadata": {},
   "outputs": [],
   "source": [
    "show_tables_query = \"SHOW tables\" \n",
    "cursor.execute(show_tables_query)"
   ]
  },
  {
   "cell_type": "code",
   "execution_count": 15,
   "id": "c2ac5281-fe23-48cf-864d-8a285ccc5085",
   "metadata": {},
   "outputs": [
    {
     "name": "stdout",
     "output_type": "stream",
     "text": [
      "[('Bookings',), ('Courses',), ('Customers',), ('Menu',), ('OrderDeliveryStatus',), ('Orders',), ('ordersview',), ('Staff',)]\n"
     ]
    }
   ],
   "source": [
    "result = cursor.fetchall()\n",
    "print(result)"
   ]
  },
  {
   "cell_type": "code",
   "execution_count": 16,
   "id": "92adcd24-daf3-4eec-8b51-7d394b979fcf",
   "metadata": {},
   "outputs": [
    {
     "name": "stdout",
     "output_type": "stream",
     "text": [
      "('Bookings',)\n",
      "('Courses',)\n",
      "('Customers',)\n",
      "('Menu',)\n",
      "('OrderDeliveryStatus',)\n",
      "('Orders',)\n",
      "('ordersview',)\n",
      "('Staff',)\n"
     ]
    }
   ],
   "source": [
    "for i in result:\n",
    "    print(i)"
   ]
  },
  {
   "cell_type": "code",
   "execution_count": 21,
   "id": "f2ff194a-2a6b-41e9-909f-9c2337751209",
   "metadata": {},
   "outputs": [],
   "source": [
    "join_query = \"SELECT C.CustomerName AS Name, C.Email AS Email, C.PhoneNumber AS Phone FROM Customers as C INNER JOIN Bookings USING (CustomerID) INNER JOIN Orders USING (BookingID) WHERE Orders.TotalCost >=60;\"\n",
    "cursor.execute(join_query)"
   ]
  },
  {
   "cell_type": "code",
   "execution_count": 22,
   "id": "570d3280-571a-48c2-8c90-dee0bc5b0e6e",
   "metadata": {},
   "outputs": [],
   "source": [
    "result = cursor.fetchall()"
   ]
  },
  {
   "cell_type": "code",
   "execution_count": 23,
   "id": "fd1c81e3-864c-4df8-9fe4-a18d117aa98d",
   "metadata": {},
   "outputs": [],
   "source": [
    "column = cursor.column_names"
   ]
  },
  {
   "cell_type": "code",
   "execution_count": 24,
   "id": "ca1e2d9f-5bb7-4338-aa37-2d277b7d7d6e",
   "metadata": {},
   "outputs": [
    {
     "name": "stdout",
     "output_type": "stream",
     "text": [
      "('Name', 'Email', 'Phone')\n",
      "('Vignesh Shaj', 'vvv@gmail.com', 121231231)\n",
      "('Vignesh Shaj', 'vvv@gmail.com', 121231231)\n"
     ]
    }
   ],
   "source": [
    "print(column)\n",
    "for i in result:\n",
    "    print(i)"
   ]
  },
  {
   "cell_type": "code",
   "execution_count": null,
   "id": "844df007-4ce8-4005-8e79-4c3171812cef",
   "metadata": {},
   "outputs": [],
   "source": []
  }
 ],
 "metadata": {
  "kernelspec": {
   "display_name": "Python 3 (ipykernel)",
   "language": "python",
   "name": "python3"
  },
  "language_info": {
   "codemirror_mode": {
    "name": "ipython",
    "version": 3
   },
   "file_extension": ".py",
   "mimetype": "text/x-python",
   "name": "python",
   "nbconvert_exporter": "python",
   "pygments_lexer": "ipython3",
   "version": "3.12.1"
  }
 },
 "nbformat": 4,
 "nbformat_minor": 5
}

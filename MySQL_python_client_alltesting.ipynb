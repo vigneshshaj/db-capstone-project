{
 "cells": [
  {
   "cell_type": "code",
   "execution_count": 7,
   "id": "5b2eeb7f-2f05-4bd7-97aa-4306160ea159",
   "metadata": {},
   "outputs": [
    {
     "name": "stdout",
     "output_type": "stream",
     "text": [
      "Collecting mysql-connector-python\n",
      "  Obtaining dependency information for mysql-connector-python from https://files.pythonhosted.org/packages/53/81/a8b2f37788bccacb64009e8778120bca6962d1fc154613f46c945eaab91f/mysql_connector_python-8.2.0-cp312-cp312-macosx_12_0_x86_64.whl.metadata\n",
      "  Downloading mysql_connector_python-8.2.0-cp312-cp312-macosx_12_0_x86_64.whl.metadata (2.1 kB)\n",
      "Collecting protobuf<=4.21.12,>=4.21.1 (from mysql-connector-python)\n",
      "  Downloading protobuf-4.21.12-cp37-abi3-macosx_10_9_universal2.whl (486 kB)\n",
      "\u001b[2K     \u001b[90m━━━━━━━━━━━━━━━━━━━━━━━━━━━━━━━━━━━━━\u001b[0m \u001b[32m486.2/486.2 kB\u001b[0m \u001b[31m127.3 kB/s\u001b[0m eta \u001b[36m0:00:00\u001b[0ma \u001b[36m0:00:01\u001b[0m\n",
      "\u001b[?25hDownloading mysql_connector_python-8.2.0-cp312-cp312-macosx_12_0_x86_64.whl (15.3 MB)\n",
      "\u001b[2K   \u001b[90m━━━━━━━━━━━━━━━━━━━━━━━━━━━━━━━━━━━━━━━━\u001b[0m \u001b[32m15.3/15.3 MB\u001b[0m \u001b[31m4.3 MB/s\u001b[0m eta \u001b[36m0:00:00\u001b[0m00:01\u001b[0m00:01\u001b[0mm\n",
      "\u001b[?25hInstalling collected packages: protobuf, mysql-connector-python\n",
      "Successfully installed mysql-connector-python-8.2.0 protobuf-4.21.12\n",
      "\n",
      "\u001b[1m[\u001b[0m\u001b[34;49mnotice\u001b[0m\u001b[1;39;49m]\u001b[0m\u001b[39;49m A new release of pip is available: \u001b[0m\u001b[31;49m23.2.1\u001b[0m\u001b[39;49m -> \u001b[0m\u001b[32;49m23.3.2\u001b[0m\n",
      "\u001b[1m[\u001b[0m\u001b[34;49mnotice\u001b[0m\u001b[1;39;49m]\u001b[0m\u001b[39;49m To update, run: \u001b[0m\u001b[32;49mpip3 install --upgrade pip\u001b[0m\n",
      "Note: you may need to restart the kernel to use updated packages.\n"
     ]
    }
   ],
   "source": [
    "pip install mysql-connector-python"
   ]
  },
  {
   "cell_type": "code",
   "execution_count": 1,
   "id": "9d71e53d-b380-4a64-bb8f-9794a60ac91c",
   "metadata": {},
   "outputs": [],
   "source": [
    "import mysql.connector as connector"
   ]
  },
  {
   "cell_type": "code",
   "execution_count": 45,
   "id": "9689b4bb-6091-4ada-be86-ac48f968ff2e",
   "metadata": {},
   "outputs": [],
   "source": [
    "connection = connector.connect(user = \"xxxx\", password = \"xxx\", db = \"mydb\") "
   ]
  },
  {
   "cell_type": "code",
   "execution_count": 46,
   "id": "4400013e-fa4b-42fd-8d9d-ed39bd4d9c80",
   "metadata": {},
   "outputs": [],
   "source": [
    "cursor = connection.cursor()"
   ]
  },
  {
   "cell_type": "code",
   "execution_count": 68,
   "id": "04c5a5b8-14ce-4dff-a8a2-efd032b55f88",
   "metadata": {},
   "outputs": [
    {
     "name": "stdout",
     "output_type": "stream",
     "text": [
      "Tables\n",
      "('Bookings',)\n",
      "('Courses',)\n",
      "('Customers',)\n",
      "('Menu',)\n",
      "('OrderDeliveryStatus',)\n",
      "('Orders',)\n",
      "('ordersview',)\n",
      "('Staff',)\n"
     ]
    }
   ],
   "source": [
    "show_tables_query = \"SHOW tables\" \n",
    "cursor.execute(show_tables_query)\n",
    "result = cursor.fetchall()\n",
    "print(\"Tables\")\n",
    "for i in result:\n",
    "    print(i)"
   ]
  },
  {
   "cell_type": "code",
   "execution_count": 63,
   "id": "1c0a91d3-bc04-458d-b3b3-396ab8f004ce",
   "metadata": {},
   "outputs": [
    {
     "name": "stdout",
     "output_type": "stream",
     "text": [
      "('OrderID', 'OrderDate', 'Quantity', 'TotalCost', 'BookingID', 'MenuID')\n",
      "(1, datetime.date(2023, 12, 1), 3, Decimal('300'), 1, 1)\n",
      "(2, datetime.date(2023, 12, 1), 3, Decimal('50'), 1, 3)\n",
      "(3, datetime.date(2023, 12, 4), 1, Decimal('10'), 2, 4)\n",
      "(5, datetime.date(2023, 12, 3), 5, Decimal('300'), 4, 2)\n"
     ]
    }
   ],
   "source": [
    "#validating the created tables\n",
    "cursor.execute(\"SELECT * FROM Orders\")\n",
    "results = cursor.fetchall()\n",
    "column = cursor.column_names\n",
    "print(column)\n",
    "for i in results:\n",
    "    print(i)"
   ]
  },
  {
   "cell_type": "code",
   "execution_count": 64,
   "id": "03ef36f5-8126-477e-a637-713f280b5da6",
   "metadata": {},
   "outputs": [
    {
     "name": "stdout",
     "output_type": "stream",
     "text": [
      "('CustomerID', 'CustomerName', 'Email', 'PhoneNumber')\n",
      "(1, 'Vignesh Shaj', 'vvv@gmail.com', 121231231)\n",
      "(2, 'Kota Rohith', '123@gmail.com', 345234344)\n",
      "(3, 'Prajwal Madankar', 'rtw@gmail.com', 123123321)\n",
      "(4, 'Canny', '12312@gmail.com', 234234234)\n"
     ]
    }
   ],
   "source": [
    "cursor.execute(\"SELECT * FROM Customers\")\n",
    "results = cursor.fetchall()\n",
    "column = cursor.column_names\n",
    "print(column)\n",
    "for i in results:\n",
    "    print(i)"
   ]
  },
  {
   "cell_type": "code",
   "execution_count": 65,
   "id": "a2eaca7d-fbde-46a0-8e1d-39a30379f240",
   "metadata": {},
   "outputs": [
    {
     "name": "stdout",
     "output_type": "stream",
     "text": [
      "('MenuID', 'ItemName', 'ItemCost', 'TypeID')\n",
      "(1, 'Onion Pakora', Decimal('5'), 1)\n",
      "(2, 'Chicken 65', Decimal('8'), 1)\n",
      "(3, 'Beef Kabab', Decimal('8'), 1)\n",
      "(4, 'Chicken Biriyani', Decimal('12'), 2)\n",
      "(5, 'Paneer Biriyani', Decimal('12'), 2)\n",
      "(6, 'Lamb Curry', Decimal('13'), 2)\n",
      "(7, 'Falooda', Decimal('5'), 3)\n",
      "(8, 'Milkshake', Decimal('6'), 3)\n"
     ]
    }
   ],
   "source": [
    "cursor.execute(\"SELECT * FROM Menu\")\n",
    "results = cursor.fetchall()\n",
    "column = cursor.column_names\n",
    "print(column)\n",
    "for i in results:\n",
    "    print(i)"
   ]
  },
  {
   "cell_type": "code",
   "execution_count": 66,
   "id": "054dce13-f99b-4f64-90de-de2eb33667b5",
   "metadata": {},
   "outputs": [
    {
     "name": "stdout",
     "output_type": "stream",
     "text": [
      "('TypeID', 'Type')\n",
      "(1, 'Starter')\n",
      "(2, 'Main Course')\n",
      "(3, 'Dessert')\n"
     ]
    }
   ],
   "source": [
    "cursor.execute(\"SELECT * FROM Courses\")\n",
    "results = cursor.fetchall()\n",
    "column = cursor.column_names\n",
    "print(column)\n",
    "for i in results:\n",
    "    print(i)"
   ]
  },
  {
   "cell_type": "code",
   "execution_count": 70,
   "id": "a08aa152-edf4-4b61-a17b-8d3db60a73d8",
   "metadata": {},
   "outputs": [
    {
     "name": "stdout",
     "output_type": "stream",
     "text": [
      "('DeliveryID', 'DeliveryDate', 'Status', 'OrderID')\n"
     ]
    }
   ],
   "source": [
    "cursor.execute(\"SELECT * FROM OrderDeliveryStatus\")\n",
    "results = cursor.fetchall()\n",
    "column = cursor.column_names\n",
    "print(column)\n",
    "for i in results:\n",
    "    print(i)"
   ]
  },
  {
   "cell_type": "code",
   "execution_count": 69,
   "id": "cd3273a2-91f9-4d7f-b289-8c1b631b9fcf",
   "metadata": {},
   "outputs": [
    {
     "name": "stdout",
     "output_type": "stream",
     "text": [
      "('BookingID', 'Date', 'TableNumber', 'CustomerID', 'StaffID')\n",
      "(1, datetime.date(2023, 12, 1), 3, 1, 2)\n",
      "(2, datetime.date(2023, 12, 2), 1, 3, 1)\n",
      "(3, datetime.date(2023, 12, 3), 2, 2, 3)\n",
      "(4, datetime.date(2023, 12, 3), 1, 1, 4)\n",
      "(5, datetime.date(2023, 12, 4), 4, 2, 1)\n",
      "(6, datetime.date(2023, 12, 3), 3, 2, 1)\n",
      "(9, datetime.date(2023, 12, 6), 6, 3, 1)\n",
      "(13, datetime.date(2023, 12, 10), 2, 1, 3)\n"
     ]
    }
   ],
   "source": [
    "cursor.execute(\"SELECT * FROM Bookings\")\n",
    "results = cursor.fetchall()\n",
    "column = cursor.column_names\n",
    "print(column)\n",
    "for i in results:\n",
    "    print(i)"
   ]
  },
  {
   "cell_type": "code",
   "execution_count": 48,
   "id": "c2ac5281-fe23-48cf-864d-8a285ccc5085",
   "metadata": {},
   "outputs": [
    {
     "name": "stdout",
     "output_type": "stream",
     "text": [
      "[('Bookings',), ('Courses',), ('Customers',), ('Menu',), ('OrderDeliveryStatus',), ('Orders',), ('ordersview',), ('Staff',)]\n"
     ]
    }
   ],
   "source": [
    "result = cursor.fetchall()\n",
    "print(result)"
   ]
  },
  {
   "cell_type": "code",
   "execution_count": 51,
   "id": "92adcd24-daf3-4eec-8b51-7d394b979fcf",
   "metadata": {},
   "outputs": [
    {
     "name": "stdout",
     "output_type": "stream",
     "text": [
      "('Bookings',)\n",
      "('Courses',)\n",
      "('Customers',)\n",
      "('Menu',)\n",
      "('OrderDeliveryStatus',)\n",
      "('Orders',)\n",
      "('ordersview',)\n",
      "('Staff',)\n"
     ]
    }
   ],
   "source": [
    "for i in result:\n",
    "    print(i)"
   ]
  },
  {
   "cell_type": "code",
   "execution_count": 71,
   "id": "f2ff194a-2a6b-41e9-909f-9c2337751209",
   "metadata": {},
   "outputs": [],
   "source": [
    "#Join query to get customer details with cost more than 60\n",
    "join_query = \"SELECT C.CustomerName AS Name, C.Email AS Email, C.PhoneNumber AS Phone FROM Customers as C INNER JOIN Bookings USING (CustomerID) INNER JOIN Orders USING (BookingID) WHERE Orders.TotalCost >=60;\"\n",
    "cursor.execute(join_query)"
   ]
  },
  {
   "cell_type": "code",
   "execution_count": 72,
   "id": "570d3280-571a-48c2-8c90-dee0bc5b0e6e",
   "metadata": {},
   "outputs": [
    {
     "name": "stdout",
     "output_type": "stream",
     "text": [
      "('Name', 'Email', 'Phone')\n",
      "('Vignesh Shaj', 'vvv@gmail.com', 121231231)\n",
      "('Vignesh Shaj', 'vvv@gmail.com', 121231231)\n"
     ]
    }
   ],
   "source": [
    "result = cursor.fetchall()\n",
    "column = cursor.column_names\n",
    "print(column)\n",
    "for i in result:\n",
    "    print(i)"
   ]
  },
  {
   "cell_type": "code",
   "execution_count": 19,
   "id": "fd1c81e3-864c-4df8-9fe4-a18d117aa98d",
   "metadata": {},
   "outputs": [],
   "source": []
  },
  {
   "cell_type": "code",
   "execution_count": 23,
   "id": "ca1e2d9f-5bb7-4338-aa37-2d277b7d7d6e",
   "metadata": {},
   "outputs": [
    {
     "name": "stdout",
     "output_type": "stream",
     "text": [
      "('Name', 'Email', 'Phone')\n",
      "('New Booking Added',)\n"
     ]
    }
   ],
   "source": []
  },
  {
   "cell_type": "code",
   "execution_count": null,
   "id": "2054072e-90b0-45e2-b6f1-12d008901815",
   "metadata": {},
   "outputs": [],
   "source": [
    "# Calling a stored procedure"
   ]
  },
  {
   "cell_type": "code",
   "execution_count": 73,
   "id": "844df007-4ce8-4005-8e79-4c3171812cef",
   "metadata": {},
   "outputs": [
    {
     "data": {
      "text/plain": [
       "('2023-12-14', '4', '2', '3')"
      ]
     },
     "execution_count": 73,
     "metadata": {},
     "output_type": "execute_result"
    }
   ],
   "source": [
    "args1 = ('2023-12-14','4','2','3')\n",
    "cursor.callproc('AddBooking',args1)"
   ]
  },
  {
   "cell_type": "code",
   "execution_count": 74,
   "id": "3e78f792-009d-471d-95a7-26d9681173a5",
   "metadata": {},
   "outputs": [],
   "source": [
    "connection.commit()"
   ]
  },
  {
   "cell_type": "code",
   "execution_count": 75,
   "id": "4d1c8a5a-f318-42cf-ba22-6b692d90115f",
   "metadata": {},
   "outputs": [
    {
     "name": "stdout",
     "output_type": "stream",
     "text": [
      "('BookingID', 'Date', 'TableNumber', 'CustomerID', 'StaffID')\n",
      "(1, datetime.date(2023, 12, 1), 3, 1, 2)\n",
      "(2, datetime.date(2023, 12, 2), 1, 3, 1)\n",
      "(3, datetime.date(2023, 12, 3), 2, 2, 3)\n",
      "(4, datetime.date(2023, 12, 3), 1, 1, 4)\n",
      "(5, datetime.date(2023, 12, 4), 4, 2, 1)\n",
      "(6, datetime.date(2023, 12, 3), 3, 2, 1)\n",
      "(9, datetime.date(2023, 12, 6), 6, 3, 1)\n",
      "(13, datetime.date(2023, 12, 10), 2, 1, 3)\n",
      "(14, datetime.date(2023, 12, 3), 4, 4, 1)\n",
      "(15, datetime.date(2023, 12, 14), 4, 2, 3)\n"
     ]
    }
   ],
   "source": [
    "cursor.execute(\"SELECT * FROM Bookings\")\n",
    "results = cursor.fetchall()\n",
    "column = cursor.column_names\n",
    "print(column)\n",
    "for i in results:\n",
    "    print(i)"
   ]
  },
  {
   "cell_type": "code",
   "execution_count": null,
   "id": "6a8d3000-e253-4004-ab65-bb169fd98c10",
   "metadata": {},
   "outputs": [],
   "source": [
    "# The new booking is added using AdBooking Stored Procedure"
   ]
  },
  {
   "cell_type": "code",
   "execution_count": null,
   "id": "d0da648d-04a8-4f24-9885-7f95489da553",
   "metadata": {},
   "outputs": [],
   "source": [
    "# Checking GetMaxQuanity"
   ]
  },
  {
   "cell_type": "code",
   "execution_count": 60,
   "id": "7e8acac4-953c-4d2c-9870-f7d8bf55028b",
   "metadata": {},
   "outputs": [
    {
     "name": "stdout",
     "output_type": "stream",
     "text": [
      "Max Quantity\n",
      "(5,)\n"
     ]
    }
   ],
   "source": [
    "cursor.callproc(\"GetMaxQuantity\")\n",
    "results = next(cursor.stored_results())\n",
    "dataset = results.fetchall()\n",
    "print(\"Max Quantity\")\n",
    "for i in dataset:\n",
    "    print(i)"
   ]
  },
  {
   "cell_type": "code",
   "execution_count": 76,
   "id": "a39a5dbb-b931-432e-933e-04bd54418ee7",
   "metadata": {},
   "outputs": [
    {
     "data": {
      "text/plain": [
       "('2023-12-03', '2', '4', '1')"
      ]
     },
     "execution_count": 76,
     "metadata": {},
     "output_type": "execute_result"
    }
   ],
   "source": [
    "# Checking GetValidBooking Procedure\n",
    "args2 = ('2023-12-03','2','4','1')\n",
    "cursor.callproc(\"AddValidBooking\",args2)"
   ]
  },
  {
   "cell_type": "code",
   "execution_count": 77,
   "id": "bbd03c4d-af60-47fe-ae83-e8a424f00737",
   "metadata": {},
   "outputs": [],
   "source": [
    "connection.commit()"
   ]
  },
  {
   "cell_type": "code",
   "execution_count": 78,
   "id": "9655b84d-6b6a-4009-a6e9-75ad3130a1d7",
   "metadata": {},
   "outputs": [
    {
     "name": "stdout",
     "output_type": "stream",
     "text": [
      "Max Quantity\n",
      "('Table 2 is already booked, booking cancelled',)\n"
     ]
    }
   ],
   "source": [
    "# table 2 was already booked - so booking should be cancelled - verifying\n",
    "\n",
    "results = next(cursor.stored_results())\n",
    "dataset = results.fetchall()\n",
    "print(\"Max Quantity\")\n",
    "for i in dataset:\n",
    "    print(i)"
   ]
  },
  {
   "cell_type": "code",
   "execution_count": 79,
   "id": "2b133907-a14f-46bc-b557-54c4b8d21155",
   "metadata": {},
   "outputs": [
    {
     "name": "stdout",
     "output_type": "stream",
     "text": [
      "('BookingID', 'Date', 'TableNumber', 'CustomerID', 'StaffID')\n",
      "(1, datetime.date(2023, 12, 1), 3, 1, 2)\n",
      "(2, datetime.date(2023, 12, 2), 1, 3, 1)\n",
      "(3, datetime.date(2023, 12, 3), 2, 2, 3)\n",
      "(4, datetime.date(2023, 12, 3), 1, 1, 4)\n",
      "(5, datetime.date(2023, 12, 4), 4, 2, 1)\n",
      "(6, datetime.date(2023, 12, 3), 3, 2, 1)\n",
      "(9, datetime.date(2023, 12, 6), 6, 3, 1)\n",
      "(13, datetime.date(2023, 12, 10), 2, 1, 3)\n",
      "(14, datetime.date(2023, 12, 3), 4, 4, 1)\n",
      "(15, datetime.date(2023, 12, 14), 4, 2, 3)\n"
     ]
    }
   ],
   "source": [
    "#no change in bookings\n",
    "cursor.execute(\"SELECT * FROM Bookings\")\n",
    "results = cursor.fetchall()\n",
    "column = cursor.column_names\n",
    "print(column)\n",
    "for i in results:\n",
    "    print(i)"
   ]
  },
  {
   "cell_type": "code",
   "execution_count": 80,
   "id": "bb07c576-2189-4aa8-a5d0-8920c81949b5",
   "metadata": {},
   "outputs": [],
   "source": [
    "# changing it to table 5 (free table)\n",
    "args2 = ('2023-12-03','5','4','1')\n",
    "cursor.callproc(\"AddValidBooking\",args2)\n",
    "connection.commit()\n"
   ]
  },
  {
   "cell_type": "code",
   "execution_count": 81,
   "id": "3741e860-1e41-4335-8aee-cfbd16ed51a7",
   "metadata": {},
   "outputs": [
    {
     "name": "stdout",
     "output_type": "stream",
     "text": [
      "('BookingID', 'Date', 'TableNumber', 'CustomerID', 'StaffID')\n",
      "(1, datetime.date(2023, 12, 1), 3, 1, 2)\n",
      "(2, datetime.date(2023, 12, 2), 1, 3, 1)\n",
      "(3, datetime.date(2023, 12, 3), 2, 2, 3)\n",
      "(4, datetime.date(2023, 12, 3), 1, 1, 4)\n",
      "(5, datetime.date(2023, 12, 4), 4, 2, 1)\n",
      "(6, datetime.date(2023, 12, 3), 3, 2, 1)\n",
      "(9, datetime.date(2023, 12, 6), 6, 3, 1)\n",
      "(13, datetime.date(2023, 12, 10), 2, 1, 3)\n",
      "(14, datetime.date(2023, 12, 3), 4, 4, 1)\n",
      "(15, datetime.date(2023, 12, 14), 4, 2, 3)\n",
      "(16, datetime.date(2023, 12, 4), 2, 4, 1)\n",
      "(17, datetime.date(2023, 12, 3), 5, 4, 1)\n"
     ]
    }
   ],
   "source": [
    "# new booking succesfully added\n",
    "\n",
    "cursor.execute(\"SELECT * FROM Bookings\")\n",
    "results = cursor.fetchall()\n",
    "column = cursor.column_names\n",
    "print(column)\n",
    "for i in results:\n",
    "    print(i)"
   ]
  },
  {
   "cell_type": "code",
   "execution_count": null,
   "id": "04e0faeb-7494-458c-8a71-930dafea2691",
   "metadata": {},
   "outputs": [],
   "source": []
  }
 ],
 "metadata": {
  "kernelspec": {
   "display_name": "Python 3 (ipykernel)",
   "language": "python",
   "name": "python3"
  },
  "language_info": {
   "codemirror_mode": {
    "name": "ipython",
    "version": 3
   },
   "file_extension": ".py",
   "mimetype": "text/x-python",
   "name": "python",
   "nbconvert_exporter": "python",
   "pygments_lexer": "ipython3",
   "version": "3.12.1"
  }
 },
 "nbformat": 4,
 "nbformat_minor": 5
}
